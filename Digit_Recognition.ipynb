{
  "nbformat": 4,
  "nbformat_minor": 0,
  "metadata": {
    "colab": {
      "name": "Digit_Recognition",
      "version": "0.3.2",
      "provenance": [],
      "collapsed_sections": [],
      "toc_visible": true
    },
    "kernelspec": {
      "name": "python3",
      "display_name": "Python 3"
    },
    "accelerator": "GPU"
  },
  "cells": [
    {
      "metadata": {
        "id": "1svjPv_uUjuk",
        "colab_type": "code",
        "outputId": "036a072b-006b-483d-e8d3-06fd8d9c28df",
        "colab": {
          "base_uri": "https://localhost:8080/",
          "height": 34
        }
      },
      "cell_type": "code",
      "source": [
        "import pandas as pd\n",
        "import numpy as np\n",
        "import matplotlib.pyplot as plt\n",
        "import matplotlib.image as mpimg\n",
        "import warnings\n",
        "import seaborn as sns\n",
        "import itertools\n",
        "\n",
        "%matplotlib inline\n",
        "\n",
        "warnings.filterwarnings('ignore')\n",
        "np.random.seed(4)\n",
        "\n",
        "from google.colab import drive\n",
        "\n",
        "from sklearn.model_selection import train_test_split\n",
        "from sklearn.metrics import confusion_matrix\n",
        "from keras.utils.np_utils import to_categorical\n",
        "from keras.models import Sequential\n",
        "from keras.layers import Dense, Dropout, Flatten ,Conv2D, MaxPool2D\n",
        "from keras.optimizers import Adam\n",
        "from keras.preprocessing.image import ImageDataGenerator\n",
        "from keras.callbacks import ReduceLROnPlateau\n",
        "from keras import backend as K"
      ],
      "execution_count": 1,
      "outputs": [
        {
          "output_type": "stream",
          "text": [
            "Using TensorFlow backend.\n"
          ],
          "name": "stderr"
        }
      ]
    },
    {
      "metadata": {
        "id": "f7hug_DR2_Ao",
        "colab_type": "code",
        "colab": {}
      },
      "cell_type": "code",
      "source": [
        "#Will be using  GPU to train the model as I'll give a significant boost in training time"
      ],
      "execution_count": 0,
      "outputs": []
    },
    {
      "metadata": {
        "id": "FIMxqAFl3xDC",
        "colab_type": "code",
        "outputId": "271660fe-0725-48e6-8843-1177a0330bc4",
        "colab": {
          "base_uri": "https://localhost:8080/",
          "height": 34
        }
      },
      "cell_type": "code",
      "source": [
        "import tensorflow as tf\n",
        "\n",
        "device_name = tf.test.gpu_device_name()\n",
        "if device_name != '/device:GPU:0':\n",
        "  raise SystemError('GPU device not found')\n",
        "print('Found GPU at: {}'.format(device_name))\n"
      ],
      "execution_count": 3,
      "outputs": [
        {
          "output_type": "stream",
          "text": [
            "Found GPU at: /device:GPU:0\n"
          ],
          "name": "stdout"
        }
      ]
    },
    {
      "metadata": {
        "id": "xMmH3FAn42Q_",
        "colab_type": "text"
      },
      "cell_type": "markdown",
      "source": [
        "GPU is properly configured and can now be used for training.\n",
        "Using Nvidia Tesla K80 GPU"
      ]
    },
    {
      "metadata": {
        "id": "UmNGa8ic55uG",
        "colab_type": "code",
        "outputId": "d73be964-80bb-409b-f01f-171ddc0144f4",
        "colab": {
          "base_uri": "https://localhost:8080/",
          "height": 34
        }
      },
      "cell_type": "code",
      "source": [
        "K.tensorflow_backend._get_available_gpus()"
      ],
      "execution_count": 4,
      "outputs": [
        {
          "output_type": "execute_result",
          "data": {
            "text/plain": [
              "['/job:localhost/replica:0/task:0/device:GPU:0']"
            ]
          },
          "metadata": {
            "tags": []
          },
          "execution_count": 4
        }
      ]
    },
    {
      "metadata": {
        "id": "pr9Yl4D_7nHb",
        "colab_type": "code",
        "colab": {}
      },
      "cell_type": "code",
      "source": [
        "sess = tf.Session(config=tf.ConfigProto(log_device_placement=True))"
      ],
      "execution_count": 0,
      "outputs": []
    },
    {
      "metadata": {
        "id": "xMXpFSt156F1",
        "colab_type": "code",
        "outputId": "46d4c964-22cb-4823-95be-6b65ebb91fde",
        "colab": {
          "base_uri": "https://localhost:8080/",
          "height": 54
        }
      },
      "cell_type": "code",
      "source": [
        "drive.mount('/content/drive')"
      ],
      "execution_count": 6,
      "outputs": [
        {
          "output_type": "stream",
          "text": [
            "Drive already mounted at /content/drive; to attempt to forcibly remount, call drive.mount(\"/content/drive\", force_remount=True).\n"
          ],
          "name": "stdout"
        }
      ]
    },
    {
      "metadata": {
        "id": "Zya7jyDtUz5d",
        "colab_type": "code",
        "colab": {}
      },
      "cell_type": "code",
      "source": [
        "train = pd.read_csv('/content/drive/My Drive/Dataset/MNIST/train.csv')\n",
        "test = pd.read_csv('/content/drive/My Drive/Dataset/MNIST/test.csv')"
      ],
      "execution_count": 0,
      "outputs": []
    },
    {
      "metadata": {
        "id": "hlSP4mEt8NKL",
        "colab_type": "code",
        "outputId": "361c2226-7dfc-4ab6-c527-d98937eda54a",
        "colab": {
          "base_uri": "https://localhost:8080/",
          "height": 466
        }
      },
      "cell_type": "code",
      "source": [
        "y = train['label']\n",
        "X = train.drop(labels=['label'],axis=1)\n",
        "\n",
        "del train #free space\n",
        "\n",
        "#will check the distribution of various numerical labels\n",
        "g = sns.countplot(y)\n",
        "\n",
        "y.value_counts()"
      ],
      "execution_count": 8,
      "outputs": [
        {
          "output_type": "execute_result",
          "data": {
            "text/plain": [
              "1    4684\n",
              "7    4401\n",
              "3    4351\n",
              "9    4188\n",
              "2    4177\n",
              "6    4137\n",
              "0    4132\n",
              "4    4072\n",
              "8    4063\n",
              "5    3795\n",
              "Name: label, dtype: int64"
            ]
          },
          "metadata": {
            "tags": []
          },
          "execution_count": 8
        },
        {
          "output_type": "display_data",
          "data": {
            "image/png": "[encoded data removed]",
            "text/plain": [
              "<Figure size 432x288 with 1 Axes>"
            ]
          },
          "metadata": {
            "tags": []
          }
        }
      ]
    },
    {
      "metadata": {
        "id": "WV-rHHB1BWfc",
        "colab_type": "text"
      },
      "cell_type": "markdown",
      "source": [
        "Counts are quite smiliar"
      ]
    },
    {
      "metadata": {
        "id": "su29Fuep-nSf",
        "colab_type": "code",
        "outputId": "212e019f-731b-47dc-fe25-63440ce57c7e",
        "colab": {
          "base_uri": "https://localhost:8080/",
          "height": 34
        }
      },
      "cell_type": "code",
      "source": [
        "X.isnull().any().any()"
      ],
      "execution_count": 9,
      "outputs": [
        {
          "output_type": "execute_result",
          "data": {
            "text/plain": [
              "False"
            ]
          },
          "metadata": {
            "tags": []
          },
          "execution_count": 9
        }
      ]
    },
    {
      "metadata": {
        "id": "qMwqllrCZCgC",
        "colab_type": "code",
        "outputId": "88fa29f2-cca1-4f37-9340-5064ffa692d0",
        "colab": {
          "base_uri": "https://localhost:8080/",
          "height": 34
        }
      },
      "cell_type": "code",
      "source": [
        "test.isnull().any().any()"
      ],
      "execution_count": 10,
      "outputs": [
        {
          "output_type": "execute_result",
          "data": {
            "text/plain": [
              "False"
            ]
          },
          "metadata": {
            "tags": []
          },
          "execution_count": 10
        }
      ]
    },
    {
      "metadata": {
        "id": "O5iw9ftRZH6V",
        "colab_type": "text"
      },
      "cell_type": "markdown",
      "source": [
        "It can be seen that test and train set have no missing values, we can safely go ahead to build our model"
      ]
    },
    {
      "metadata": {
        "id": "iAYQM6DvZG4s",
        "colab_type": "code",
        "colab": {}
      },
      "cell_type": "code",
      "source": [
        "#Normalizing\n",
        "#Nomalization increases convergance rate also reduces the effect of illiminance\n",
        "\n",
        "X = X/255.0\n",
        "test = test/255.0"
      ],
      "execution_count": 0,
      "outputs": []
    },
    {
      "metadata": {
        "id": "niY6bwKXZuKs",
        "colab_type": "code",
        "colab": {}
      },
      "cell_type": "code",
      "source": [
        "#Reshaping\n",
        "#as Keras requies 3rd dimension for channels\n",
        "#Since dataset contains grayscale images it will have only one channel\n",
        "\n",
        "X = X.values.reshape(-1,28,28,1)\n",
        "test = test.values.reshape(-1,28,28,1)\n"
      ],
      "execution_count": 0,
      "outputs": []
    },
    {
      "metadata": {
        "id": "Ez-hGKJocaIQ",
        "colab_type": "code",
        "colab": {}
      },
      "cell_type": "code",
      "source": [
        "#Encloding labels\n",
        "\n",
        "y =  to_categorical(y,num_classes=10)"
      ],
      "execution_count": 0,
      "outputs": []
    },
    {
      "metadata": {
        "id": "eS8hlIpgdEBm",
        "colab_type": "code",
        "colab": {}
      },
      "cell_type": "code",
      "source": [
        "#Splitting Data \n",
        "\n",
        "X_train,X_dev,y_train,y_dev = train_test_split(X,y,test_size=0.1,\n",
        "                                               random_state = 4)"
      ],
      "execution_count": 0,
      "outputs": []
    },
    {
      "metadata": {
        "id": "TiBmG-84dzjF",
        "colab_type": "code",
        "outputId": "e062e2fe-3235-423c-8973-44beccfce12d",
        "colab": {
          "base_uri": "https://localhost:8080/",
          "height": 282
        }
      },
      "cell_type": "code",
      "source": [
        "#visulazing a example\n",
        "\n",
        "plt.imshow(X_train[1][:,:,0])"
      ],
      "execution_count": 15,
      "outputs": [
        {
          "output_type": "execute_result",
          "data": {
            "text/plain": [
              "<matplotlib.image.AxesImage at 0x7fbf0073f2e8>"
            ]
          },
          "metadata": {
            "tags": []
          },
          "execution_count": 15
        },
        {
          "output_type": "display_data",
          "data": {
            "image/png": "[encoded data removed]",
            "text/plain": [
              "<Figure size 432x288 with 1 Axes>"
            ]
          },
          "metadata": {
            "tags": []
          }
        }
      ]
    },
    {
      "metadata": {
        "id": "BZYoDQU4ge-b",
        "colab_type": "text"
      },
      "cell_type": "markdown",
      "source": [
        "# Building Model\n",
        "\n",
        "html\n",
        "We will be using Keras sequential API and will add layers one-by-one sequentially.\n",
        "Using 32 filters for first 2 layers and 64 for the last two<br>\n",
        "Using dropout for regularization along with ReLU final layer will use sofmax activation function."
      ]
    },
    {
      "metadata": {
        "id": "105Y7PRgfkHH",
        "colab_type": "code",
        "colab": {}
      },
      "cell_type": "code",
      "source": [
        "def build_model(fil1=32,fil2=64,activ='relu',drp=0.25):\n",
        "  \n",
        "  model = Sequential()\n",
        "  model.add(Conv2D(filters=fil1, kernel_size=(5,5),padding='Same',\n",
        "                  activation=activ , input_shape=(28,28,1)))\n",
        "  model.add(Conv2D(filters=fil1, kernel_size=(5,5),padding='Same',\n",
        "                  activation=activ))\n",
        "  model.add(MaxPool2D(pool_size=(2,2)))\n",
        "  model.add(Dropout(drp))\n",
        "  \n",
        "  model.add(Conv2D(filters=fil2,kernel_size=(3,3),padding='Same',\n",
        "                  activation = activ))\n",
        "  model.add(Conv2D(filters=fil2,kernel_size=(3,3),padding='Same',\n",
        "                  activation = activ))\n",
        "  model.add(MaxPool2D(pool_size=(2,2),strides=(2,2)))\n",
        "  model.add(Dropout(drp))\n",
        "  \n",
        "  model.add(Flatten())\n",
        "  model.add(Dense(256,activation = activ))\n",
        "  model.add(Dropout(0.5))\n",
        "  model.add(Dense(10,activation = 'softmax'))\n",
        "  \n",
        "  optimizer = Adam(lr=0.001, beta_1=0.9, beta_2=0.999, epsilon=None, \n",
        "                   decay=0.0, amsgrad=False)\n",
        "  model.compile(optimizer=optimizer, loss =\"categorical_crossentropy\",\n",
        "               metrics=['accuracy'])\n",
        "  return model"
      ],
      "execution_count": 0,
      "outputs": []
    },
    {
      "metadata": {
        "id": "HqhHqcRqpMiS",
        "colab_type": "code",
        "colab": {}
      },
      "cell_type": "code",
      "source": [
        "# Set a learning rate annealer\n",
        "lr_reduction = ReduceLROnPlateau(monitor='val_acc', \n",
        "                                 patience=3, \n",
        "                                 verbose=1, \n",
        "                                 factor=0.5, \n",
        "                                 min_lr=0.00001)"
      ],
      "execution_count": 0,
      "outputs": []
    },
    {
      "metadata": {
        "id": "wxFTMA0ntCkr",
        "colab_type": "code",
        "colab": {}
      },
      "cell_type": "code",
      "source": [
        "epochs = 4\n",
        "batch_size = 64"
      ],
      "execution_count": 0,
      "outputs": []
    },
    {
      "metadata": {
        "id": "dD-w6-YSuRhC",
        "colab_type": "code",
        "outputId": "9ed217db-10e1-4eea-aea3-de091bd0b8d8",
        "colab": {
          "base_uri": "https://localhost:8080/",
          "height": 34
        }
      },
      "cell_type": "code",
      "source": [
        "X_train.shape"
      ],
      "execution_count": 19,
      "outputs": [
        {
          "output_type": "execute_result",
          "data": {
            "text/plain": [
              "(37800, 28, 28, 1)"
            ]
          },
          "metadata": {
            "tags": []
          },
          "execution_count": 19
        }
      ]
    },
    {
      "metadata": {
        "id": "faC8wP3XtNl7",
        "colab_type": "code",
        "colab": {}
      },
      "cell_type": "code",
      "source": [
        "#Using data augumentation to avoid over-fitting\n",
        "gendata = ImageDataGenerator(\n",
        "        featurewise_center=False,  # set input mean to 0 over the dataset\n",
        "        samplewise_center=False,  # set each sample mean to 0\n",
        "        featurewise_std_normalization=False,  # divide inputs by std of the dataset\n",
        "        samplewise_std_normalization=False,  # divide each input by its std\n",
        "        zca_whitening=False,  # apply ZCA whitening\n",
        "        rotation_range=10,  # randomly rotate images in the range (degrees, 0 to 180)\n",
        "        zoom_range = 0.1, # Randomly zoom image \n",
        "        width_shift_range=0.1,  # randomly shift images horizontally (fraction of total width)\n",
        "        height_shift_range=0.1,  # randomly shift images vertically (fraction of total height)\n",
        "        horizontal_flip=False,  # randomly flip images\n",
        "        vertical_flip=False)  # randomly flip images\n",
        "gendata.fit(X_train)"
      ],
      "execution_count": 0,
      "outputs": []
    },
    {
      "metadata": {
        "id": "TUX1MHVtvO8z",
        "colab_type": "code",
        "outputId": "13dca1e6-d327-4097-9c3a-b9a4384f07b4",
        "colab": {
          "base_uri": "https://localhost:8080/",
          "height": 187
        }
      },
      "cell_type": "code",
      "source": [
        "model = build_model()\n",
        "\n",
        "cnn = model.fit_generator(gendata.flow(X_train,y_train,batch_size=batch_size),\n",
        "                                      epochs=epochs,\n",
        "                                      validation_data= (X_dev,y_dev),verbose=2,\n",
        "                                      steps_per_epoch = X_train.shape[0],\n",
        "                                      callbacks =[lr_reduction])"
      ],
      "execution_count": 21,
      "outputs": [
        {
          "output_type": "stream",
          "text": [
            "Epoch 1/4\n",
            " - 929s - loss: 0.0439 - acc: 0.9868 - val_loss: 0.0220 - val_acc: 0.9960\n",
            "Epoch 2/4\n",
            " - 942s - loss: 0.0254 - acc: 0.9927 - val_loss: 0.0208 - val_acc: 0.9960\n",
            "Epoch 3/4\n",
            " - 944s - loss: 0.0259 - acc: 0.9930 - val_loss: 0.0319 - val_acc: 0.9938\n",
            "Epoch 4/4\n",
            " - 935s - loss: 0.0274 - acc: 0.9930 - val_loss: 0.0245 - val_acc: 0.9948\n",
            "\n",
            "Epoch 00004: ReduceLROnPlateau reducing learning rate to 0.0005000000237487257.\n"
          ],
          "name": "stdout"
        }
      ]
    },
    {
      "metadata": {
        "id": "_qET-LGpzWtm",
        "colab_type": "text"
      },
      "cell_type": "markdown",
      "source": [
        "It can be seen that model's performance on train and dev set is quite similar also Bayes error for this particular problem is ~99.9 hence we can can that our model is performing quite well. "
      ]
    },
    {
      "metadata": {
        "id": "OT3-8l25x33M",
        "colab_type": "text"
      },
      "cell_type": "markdown",
      "source": [
        "Setting Epoch from 10-15 will yield an accuracy of around ~99.8 on Dev set, and will take a traning time of around 4 hours"
      ]
    },
    {
      "metadata": {
        "id": "vp-7N5132CfK",
        "colab_type": "text"
      },
      "cell_type": "markdown",
      "source": [
        "**Evaluating Model's Performance**"
      ]
    },
    {
      "metadata": {
        "id": "pErZtcpfw12Q",
        "colab_type": "code",
        "colab": {
          "base_uri": "https://localhost:8080/",
          "height": 265
        },
        "outputId": "acefe2ba-bb7e-4354-e9fc-bcdfd8c7a299"
      },
      "cell_type": "code",
      "source": [
        "fig, ax = plt.subplots(2,1)\n",
        "ax[0].plot(cnn.history['loss'],color= 'blue',label = 'Train Loss')\n",
        "ax[0].plot(cnn.history['val_loss'],color= 'red',label = 'Dev Loss')\n",
        "legend = ax[0].legend(loc='best')\n",
        "\n",
        "ax[1].plot(cnn.history['acc'],color= 'blue',label = 'Train Accuracy')\n",
        "ax[1].plot(cnn.history['val_acc'],color= 'red',label = 'Dev Accuracy')\n",
        "legend = ax[1].legend(loc='best')"
      ],
      "execution_count": 25,
      "outputs": [
        {
          "output_type": "display_data",
          "data": {
            "image/png": "[encoded data removed]",
            "text/plain": [
              "<Figure size 432x288 with 2 Axes>"
            ]
          },
          "metadata": {
            "tags": []
          }
        }
      ]
    },
    {
      "metadata": {
        "id": "WJN8plri2rS-",
        "colab_type": "code",
        "colab": {
          "base_uri": "https://localhost:8080/",
          "height": 311
        },
        "outputId": "975d45c2-abd4-494d-e423-75cc88d45ab3"
      },
      "cell_type": "code",
      "source": [
        "def plot_confusion_matrix(cm, classes,\n",
        "                          normalize=False,\n",
        "                          title='Confusion matrix',\n",
        "                          cmap=plt.cm.Blues):\n",
        "    \"\"\"\n",
        "    This function prints and plots the confusion matrix.\n",
        "    Normalization can be applied by setting `normalize=True`.\n",
        "    \"\"\"\n",
        "    plt.imshow(cm, interpolation='nearest', cmap=cmap)\n",
        "    plt.title(title)\n",
        "    plt.colorbar()\n",
        "    tick_marks = np.arange(len(classes))\n",
        "    plt.xticks(tick_marks, classes, rotation=45)\n",
        "    plt.yticks(tick_marks, classes)\n",
        "\n",
        "    if normalize:\n",
        "        cm = cm.astype('float') / cm.sum(axis=1)[:, np.newaxis]\n",
        "\n",
        "    thresh = cm.max() / 2.\n",
        "    for i, j in itertools.product(range(cm.shape[0]), range(cm.shape[1])):\n",
        "        plt.text(j, i, cm[i, j],\n",
        "                 horizontalalignment=\"center\",\n",
        "                 color=\"white\" if cm[i, j] > thresh else \"black\")\n",
        "\n",
        "    plt.tight_layout()\n",
        "    plt.ylabel('True label')\n",
        "    plt.xlabel('Predicted label')\n",
        "\n",
        "# Predict the values from the validation dataset\n",
        "Y_pred = model.predict(X_dev)\n",
        "# Convert predictions classes to one hot vectors \n",
        "Y_pred_classes = np.argmax(Y_pred,axis = 1) \n",
        "# Convert validation observations to one hot vectors\n",
        "Y_true = np.argmax(y_dev,axis = 1) \n",
        "# compute the confusion matrix\n",
        "confusion_mtx = confusion_matrix(Y_true, Y_pred_classes) \n",
        "# plot the confusion matrix\n",
        "plot_confusion_matrix(confusion_mtx, classes = range(10)) "
      ],
      "execution_count": 26,
      "outputs": [
        {
          "output_type": "display_data",
          "data": {
            "image/png": "[encoded data removed]",
            "text/plain": [
              "<Figure size 432x288 with 2 Axes>"
            ]
          },
          "metadata": {
            "tags": []
          }
        }
      ]
    },
    {
      "metadata": {
        "id": "tYCmibHP6tfo",
        "colab_type": "text"
      },
      "cell_type": "markdown",
      "source": [
        "It can be seen that CNN have a very good performance on the Dev set in recognizing the images."
      ]
    },
    {
      "metadata": {
        "id": "lHjy6kGu6LR1",
        "colab_type": "code",
        "colab": {}
      },
      "cell_type": "code",
      "source": [
        "test_pred = model.predict(test)\n",
        "\n",
        "test_pred = np.argmax(test_pred,axis=1)\n",
        "test_pred = pd.Series(test_pred,name='Label')"
      ],
      "execution_count": 0,
      "outputs": []
    },
    {
      "metadata": {
        "id": "mhYWFEZa7whp",
        "colab_type": "code",
        "colab": {}
      },
      "cell_type": "code",
      "source": [
        "submission = pd.concat([pd.Series(range(1,28001),name='ImageId'),\n",
        "                        test_pred],axis=1)\n",
        "\n",
        "submission.to_csv('MNIST_CNN_ADAMS.csv',index = False)"
      ],
      "execution_count": 0,
      "outputs": []
    },
    {
      "metadata": {
        "id": "CyYa7-Yv8uKb",
        "colab_type": "code",
        "colab": {}
      },
      "cell_type": "code",
      "source": [
        ""
      ],
      "execution_count": 0,
      "outputs": []
    }
  ]
}